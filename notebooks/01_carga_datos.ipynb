{
  "nbformat": 4,
  "nbformat_minor": 0,
  "metadata": {
    "colab": {
      "provenance": []
    },
    "kernelspec": {
      "name": "python3",
      "display_name": "Python 3"
    },
    "language_info": {
      "name": "python"
    }
  },
  "cells": [
    {
      "cell_type": "markdown",
      "source": [
        "# Carga y Exploración Inicial de Datos - Telecom X\n",
        "\n",
        "## Propósito\n",
        "En este cuaderno, se realiza la carga de los datos de clientes de Telecom X desde una API en formato JSON. Los datos se convierten en un DataFrame de Pandas para facilitar su manipulación y análisis posterior.\n",
        "\n",
        "## Tarea\n",
        "1. Importar las bibliotecas necesarias.\n",
        "2. Cargar los datos desde la URL proporcionada.\n",
        "3. Convertir los datos JSON en un DataFrame.\n",
        "4. Realizar una inspección inicial de los datos."
      ],
      "metadata": {
        "id": "Q4XqvLVC-zR0"
      }
    },
    {
      "cell_type": "code",
      "source": [
        "# Importación de bibliotecas\n",
        "import pandas as pd\n",
        "import requests\n",
        "import json\n",
        "\n",
        "# URL de la API\n",
        "url = \"https://raw.githubusercontent.com/ingridcristh/challenge2-data-science-LATAM/main/TelecomX_Data.json\"\n",
        "\n",
        "# Carga de datos desde la API\n",
        "response = requests.get(url)\n",
        "data = response.json()\n",
        "\n",
        "# Conversión a DataFrame\n",
        "df = pd.DataFrame(data)\n",
        "\n",
        "# Inspección inicial\n",
        "print(\"Primeras 5 filas del DataFrame:\")\n",
        "print(df.head())\n",
        "print(\"\\nInformación del DataFrame:\")\n",
        "print(df.info())\n",
        "print(\"\\nDescripción estadística:\")\n",
        "print(df.describe())"
      ],
      "metadata": {
        "colab": {
          "base_uri": "https://localhost:8080/"
        },
        "id": "JAguE6GP_HSU",
        "outputId": "709a014c-5a79-427e-a3d3-b4a5756bc7c6"
      },
      "execution_count": 2,
      "outputs": [
        {
          "output_type": "stream",
          "name": "stdout",
          "text": [
            "Primeras 5 filas del DataFrame:\n",
            "   customerID Churn                                           customer  \\\n",
            "0  0002-ORFBO    No  {'gender': 'Female', 'SeniorCitizen': 0, 'Part...   \n",
            "1  0003-MKNFE    No  {'gender': 'Male', 'SeniorCitizen': 0, 'Partne...   \n",
            "2  0004-TLHLJ   Yes  {'gender': 'Male', 'SeniorCitizen': 0, 'Partne...   \n",
            "3  0011-IGKFF   Yes  {'gender': 'Male', 'SeniorCitizen': 1, 'Partne...   \n",
            "4  0013-EXCHZ   Yes  {'gender': 'Female', 'SeniorCitizen': 1, 'Part...   \n",
            "\n",
            "                                             phone  \\\n",
            "0   {'PhoneService': 'Yes', 'MultipleLines': 'No'}   \n",
            "1  {'PhoneService': 'Yes', 'MultipleLines': 'Yes'}   \n",
            "2   {'PhoneService': 'Yes', 'MultipleLines': 'No'}   \n",
            "3   {'PhoneService': 'Yes', 'MultipleLines': 'No'}   \n",
            "4   {'PhoneService': 'Yes', 'MultipleLines': 'No'}   \n",
            "\n",
            "                                            internet  \\\n",
            "0  {'InternetService': 'DSL', 'OnlineSecurity': '...   \n",
            "1  {'InternetService': 'DSL', 'OnlineSecurity': '...   \n",
            "2  {'InternetService': 'Fiber optic', 'OnlineSecu...   \n",
            "3  {'InternetService': 'Fiber optic', 'OnlineSecu...   \n",
            "4  {'InternetService': 'Fiber optic', 'OnlineSecu...   \n",
            "\n",
            "                                             account  \n",
            "0  {'Contract': 'One year', 'PaperlessBilling': '...  \n",
            "1  {'Contract': 'Month-to-month', 'PaperlessBilli...  \n",
            "2  {'Contract': 'Month-to-month', 'PaperlessBilli...  \n",
            "3  {'Contract': 'Month-to-month', 'PaperlessBilli...  \n",
            "4  {'Contract': 'Month-to-month', 'PaperlessBilli...  \n",
            "\n",
            "Información del DataFrame:\n",
            "<class 'pandas.core.frame.DataFrame'>\n",
            "RangeIndex: 7267 entries, 0 to 7266\n",
            "Data columns (total 6 columns):\n",
            " #   Column      Non-Null Count  Dtype \n",
            "---  ------      --------------  ----- \n",
            " 0   customerID  7267 non-null   object\n",
            " 1   Churn       7267 non-null   object\n",
            " 2   customer    7267 non-null   object\n",
            " 3   phone       7267 non-null   object\n",
            " 4   internet    7267 non-null   object\n",
            " 5   account     7267 non-null   object\n",
            "dtypes: object(6)\n",
            "memory usage: 340.8+ KB\n",
            "None\n",
            "\n",
            "Descripción estadística:\n",
            "        customerID Churn                                           customer  \\\n",
            "count         7267  7267                                               7267   \n",
            "unique        7267     3                                                891   \n",
            "top     9995-HOTOH    No  {'gender': 'Male', 'SeniorCitizen': 0, 'Partne...   \n",
            "freq             1  5174                                                223   \n",
            "\n",
            "                                                 phone  \\\n",
            "count                                             7267   \n",
            "unique                                               3   \n",
            "top     {'PhoneService': 'Yes', 'MultipleLines': 'No'}   \n",
            "freq                                              3495   \n",
            "\n",
            "                                                 internet  \\\n",
            "count                                                7267   \n",
            "unique                                                129   \n",
            "top     {'InternetService': 'No', 'OnlineSecurity': 'N...   \n",
            "freq                                                 1581   \n",
            "\n",
            "                                                  account  \n",
            "count                                                7267  \n",
            "unique                                               6931  \n",
            "top     {'Contract': 'Month-to-month', 'PaperlessBilli...  \n",
            "freq                                                    6  \n"
          ]
        }
      ]
    },
    {
      "cell_type": "markdown",
      "source": [
        "## Descripción de la tarea\n",
        "En esta sección, se importaron los datos desde la URL proporcionada y se convirtieron en un DataFrame de Pandas. Se realizó una inspección inicial para verificar la estructura, tipos de datos y estadísticas básicas del conjunto de datos. Los resultados muestran las primeras filas, información general y estadísticas descriptivas del DataFrame.\n"
      ],
      "metadata": {
        "id": "9WxkR_ai_irU"
      }
    },
    {
      "cell_type": "code",
      "source": [],
      "metadata": {
        "id": "ukY3Kllc_rzr"
      },
      "execution_count": null,
      "outputs": []
    }
  ]
}