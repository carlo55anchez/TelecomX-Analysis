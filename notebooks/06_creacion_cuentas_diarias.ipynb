{
  "nbformat": 4,
  "nbformat_minor": 0,
  "metadata": {
    "colab": {
      "provenance": []
    },
    "kernelspec": {
      "name": "python3",
      "display_name": "Python 3"
    },
    "language_info": {
      "name": "python"
    }
  },
  "cells": [
    {
      "cell_type": "markdown",
      "source": [
        "# Creación de la Columna Cuentas_Diarias - Telecom X\n",
        "\n",
        "## Propósito\n",
        "En este cuaderno, se crea la columna `Cuentas_Diarias` para calcular el valor diario de facturación de los clientes, dividiendo `account_Charges.Monthly` por 30. Esto proporciona una visión detallada del comportamiento de facturación de los clientes a lo largo del tiempo.\n",
        "\n",
        "## Tarea\n",
        "1. Cargar el dataset limpio desde la URL de la API y aplicar correcciones previas.\n",
        "2. Crear la columna `Cuentas_Diarias` dividiendo `account_Charges.Monthly` por 30.\n",
        "3. Verificar la coherencia de la nueva columna (tipo de datos, valores no negativos).\n",
        "4. Guardar el dataset actualizado con la nueva columna."
      ],
      "metadata": {
        "id": "9PJNubvGVbCZ"
      }
    },
    {
      "cell_type": "code",
      "source": [
        "# Importación de bibliotecas\n",
        "import pandas as pd\n",
        "import requests\n",
        "import json\n",
        "\n",
        "# Carga de datos desde la API\n",
        "url = \"https://raw.githubusercontent.com/ingridcristh/challenge2-data-science-LATAM/main/TelecomX_Data.json\"\n",
        "response = requests.get(url)\n",
        "data = response.json()\n",
        "\n",
        "# Conversión a DataFrame\n",
        "df = pd.DataFrame(data)\n",
        "\n",
        "# Desanidar columnas JSON\n",
        "customer_df = pd.json_normalize(df['customer'])\n",
        "customer_df.columns = [f\"customer_{col}\" for col in customer_df.columns]\n",
        "phone_df = pd.json_normalize(df['phone'])\n",
        "phone_df.columns = [f\"phone_{col}\" for col in phone_df.columns]\n",
        "internet_df = pd.json_normalize(df['internet'])\n",
        "internet_df.columns = [f\"internet_{col}\" for col in internet_df.columns]\n",
        "account_df = pd.json_normalize(df['account'])\n",
        "account_df.columns = [f\"account_{col}\" for col in account_df.columns]\n",
        "\n",
        "# Combinar los datos desanidados\n",
        "df_clean = pd.concat([df[['customerID', 'Churn']], customer_df, phone_df, internet_df, account_df], axis=1)\n",
        "\n",
        "# Aplicar correcciones previas\n",
        "df_clean['Churn'] = df_clean['Churn'].replace('', 'No')\n",
        "df_clean['account_Charges.Monthly'] = pd.to_numeric(df_clean['account_Charges.Monthly'], errors='coerce')\n",
        "df_clean['account_Charges.Total'] = pd.to_numeric(df_clean['account_Charges.Total'], errors='coerce')\n",
        "df_clean['customer_tenure'] = df_clean['customer_tenure'].astype('int64')\n",
        "df_clean['customer_SeniorCitizen'] = df_clean['customer_SeniorCitizen'].astype('int64')\n",
        "\n",
        "# Imputar valores nulos en 'account_Charges.Total'\n",
        "median_total = df_clean['account_Charges.Total'].median()\n",
        "df_clean['account_Charges.Total'] = df_clean.apply(\n",
        "    lambda row: row['account_Charges.Monthly'] if pd.isna(row['account_Charges.Total']) and row['customer_tenure'] <= 1\n",
        "    else row['account_Charges.Total'] if not pd.isna(row['account_Charges.Total'])\n",
        "    else median_total,\n",
        "    axis=1\n",
        ")\n",
        "\n",
        "# 1. Crear la columna 'Cuentas_Diarias'\n",
        "df_clean['Cuentas_Diarias'] = df_clean['account_Charges.Monthly'] / 30\n",
        "\n",
        "# 2. Verificar la nueva columna\n",
        "print(\"Estadísticas descriptivas de 'Cuentas_Diarias':\")\n",
        "print(df_clean['Cuentas_Diarias'].describe())\n",
        "\n",
        "# Verificar valores nulos en 'Cuentas_Diarias'\n",
        "print(\"\\nValores nulos en 'Cuentas_Diarias':\")\n",
        "print(df_clean['Cuentas_Diarias'].isnull().sum())\n",
        "\n",
        "# Verificar valores negativos en 'Cuentas_Diarias'\n",
        "if (df_clean['Cuentas_Diarias'] < 0).any():\n",
        "    print(\"\\nValores negativos encontrados en 'Cuentas_Diarias':\")\n",
        "    print(df_clean[df_clean['Cuentas_Diarias'] < 0]['Cuentas_Diarias'])\n",
        "else:\n",
        "    print(\"\\nNo se encontraron valores negativos en 'Cuentas_Diarias'.\")\n",
        "\n",
        "# 3. Verificación de tipos de datos\n",
        "print(\"\\nTipos de datos del DataFrame actualizado:\")\n",
        "print(df_clean.dtypes)\n",
        "\n",
        "# 4. Mostrar las primeras filas con la nueva columna\n",
        "print(\"\\nPrimeras 5 filas del DataFrame con 'Cuentas_Diarias':\")\n",
        "print(df_clean[['customerID', 'account_Charges.Monthly', 'Cuentas_Diarias']].head())\n",
        "\n",
        "# 5. Guardar el dataset actualizado\n",
        "df_clean.to_csv('TelecomX_Data_with_daily.csv', index=False)\n",
        "print(\"\\nDataset actualizado guardado como 'TelecomX_Data_with_daily.csv'.\")"
      ],
      "metadata": {
        "colab": {
          "base_uri": "https://localhost:8080/"
        },
        "id": "9y-cfpJnVm2R",
        "outputId": "0c51ef17-05bf-4ef4-d90a-a995ef5e1c3c"
      },
      "execution_count": 1,
      "outputs": [
        {
          "output_type": "stream",
          "name": "stdout",
          "text": [
            "Estadísticas descriptivas de 'Cuentas_Diarias':\n",
            "count    7267.000000\n",
            "mean        2.157337\n",
            "std         1.004319\n",
            "min         0.608333\n",
            "25%         1.180833\n",
            "50%         2.343333\n",
            "75%         2.995833\n",
            "max         3.958333\n",
            "Name: Cuentas_Diarias, dtype: float64\n",
            "\n",
            "Valores nulos en 'Cuentas_Diarias':\n",
            "0\n",
            "\n",
            "No se encontraron valores negativos en 'Cuentas_Diarias'.\n",
            "\n",
            "Tipos de datos del DataFrame actualizado:\n",
            "customerID                    object\n",
            "Churn                         object\n",
            "customer_gender               object\n",
            "customer_SeniorCitizen         int64\n",
            "customer_Partner              object\n",
            "customer_Dependents           object\n",
            "customer_tenure                int64\n",
            "phone_PhoneService            object\n",
            "phone_MultipleLines           object\n",
            "internet_InternetService      object\n",
            "internet_OnlineSecurity       object\n",
            "internet_OnlineBackup         object\n",
            "internet_DeviceProtection     object\n",
            "internet_TechSupport          object\n",
            "internet_StreamingTV          object\n",
            "internet_StreamingMovies      object\n",
            "account_Contract              object\n",
            "account_PaperlessBilling      object\n",
            "account_PaymentMethod         object\n",
            "account_Charges.Monthly      float64\n",
            "account_Charges.Total        float64\n",
            "Cuentas_Diarias              float64\n",
            "dtype: object\n",
            "\n",
            "Primeras 5 filas del DataFrame con 'Cuentas_Diarias':\n",
            "   customerID  account_Charges.Monthly  Cuentas_Diarias\n",
            "0  0002-ORFBO                     65.6         2.186667\n",
            "1  0003-MKNFE                     59.9         1.996667\n",
            "2  0004-TLHLJ                     73.9         2.463333\n",
            "3  0011-IGKFF                     98.0         3.266667\n",
            "4  0013-EXCHZ                     83.9         2.796667\n",
            "\n",
            "Dataset actualizado guardado como 'TelecomX_Data_with_daily.csv'.\n"
          ]
        }
      ]
    },
    {
      "cell_type": "markdown",
      "source": [
        "## Descripción de la tarea\n",
        "En esta sección, se creó la columna `Cuentas_Diarias` dividiendo `account_Charges.Monthly` por 30 para obtener el valor diario de facturación. Se verificó que la nueva columna no tenga valores nulos ni negativos, y que su tipo de datos sea correcto (`float64`). El dataset actualizado se guardó como `TelecomX_Data_with_daily.csv` para su uso en el análisis exploratorio."
      ],
      "metadata": {
        "id": "PFyB5X13WJ-i"
      }
    }
  ]
}