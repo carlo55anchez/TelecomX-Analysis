{
  "nbformat": 4,
  "nbformat_minor": 0,
  "metadata": {
    "colab": {
      "provenance": []
    },
    "kernelspec": {
      "name": "python3",
      "display_name": "Python 3"
    },
    "language_info": {
      "name": "python"
    }
  },
  "cells": [
    {
      "cell_type": "markdown",
      "source": [
        "# Exploración de Datos - Telecom X\n",
        "\n",
        "## Propósito\n",
        "En este cuaderno, se explora la estructura del dataset de Telecom X para comprender las columnas, sus tipos de datos y su relevancia para el análisis de evasión de clientes (churn). Se identifican las variables clave que podrían influir en la predicción del churn.\n",
        "\n",
        "## Tarea\n",
        "1. Cargar el dataset desde la carpeta `data/`.\n",
        "2. Explorar las columnas y sus tipos de datos.\n",
        "3. Consultar el diccionario de datos para entender el significado de las variables.\n",
        "4. Identificar las columnas más relevantes para el análisis de evasión."
      ],
      "metadata": {
        "id": "jlsArlH7DZEV"
      }
    },
    {
      "cell_type": "code",
      "source": [
        "# Importación de bibliotecas\n",
        "import pandas as pd\n",
        "import requests\n",
        "import json\n",
        "\n",
        "# Carga de datos desde la API\n",
        "url = \"https://raw.githubusercontent.com/ingridcristh/challenge2-data-science-LATAM/main/TelecomX_Data.json\"\n",
        "response = requests.get(url)\n",
        "data = response.json()\n",
        "\n",
        "# Conversión a DataFrame\n",
        "df = pd.DataFrame(data)\n",
        "\n",
        "# Inspección de columnas y tipos de datos\n",
        "print(\"Columnas del DataFrame y tipos de datos:\")\n",
        "print(df.dtypes)\n",
        "print(\"\\nNúmero de filas y columnas:\", df.shape)\n",
        "\n",
        "# Estadísticas descriptivas\n",
        "print(\"\\nEstadísticas descriptivas de variables numéricas:\")\n",
        "print(df.describe())\n",
        "print(\"\\nEstadísticas descriptivas de variables categóricas:\")\n",
        "print(df.describe(include='object'))\n",
        "\n",
        "# Verificación de valores nulos\n",
        "print(\"\\nValores nulos por columna:\")\n",
        "print(df.isnull().sum())\n",
        "\n",
        "# Exploración de las primeras filas\n",
        "print(\"\\nPrimeras 5 filas del DataFrame:\")\n",
        "print(df.head())"
      ],
      "metadata": {
        "colab": {
          "base_uri": "https://localhost:8080/"
        },
        "id": "epeHHxpsDt6U",
        "outputId": "887bd6da-b401-4596-f746-1fdf2315a0d0"
      },
      "execution_count": 2,
      "outputs": [
        {
          "output_type": "stream",
          "name": "stdout",
          "text": [
            "Columnas del DataFrame y tipos de datos:\n",
            "customerID    object\n",
            "Churn         object\n",
            "customer      object\n",
            "phone         object\n",
            "internet      object\n",
            "account       object\n",
            "dtype: object\n",
            "\n",
            "Número de filas y columnas: (7267, 6)\n",
            "\n",
            "Estadísticas descriptivas de variables numéricas:\n",
            "        customerID Churn                                           customer  \\\n",
            "count         7267  7267                                               7267   \n",
            "unique        7267     3                                                891   \n",
            "top     9995-HOTOH    No  {'gender': 'Male', 'SeniorCitizen': 0, 'Partne...   \n",
            "freq             1  5174                                                223   \n",
            "\n",
            "                                                 phone  \\\n",
            "count                                             7267   \n",
            "unique                                               3   \n",
            "top     {'PhoneService': 'Yes', 'MultipleLines': 'No'}   \n",
            "freq                                              3495   \n",
            "\n",
            "                                                 internet  \\\n",
            "count                                                7267   \n",
            "unique                                                129   \n",
            "top     {'InternetService': 'No', 'OnlineSecurity': 'N...   \n",
            "freq                                                 1581   \n",
            "\n",
            "                                                  account  \n",
            "count                                                7267  \n",
            "unique                                               6931  \n",
            "top     {'Contract': 'Month-to-month', 'PaperlessBilli...  \n",
            "freq                                                    6  \n",
            "\n",
            "Estadísticas descriptivas de variables categóricas:\n",
            "        customerID Churn                                           customer  \\\n",
            "count         7267  7267                                               7267   \n",
            "unique        7267     3                                                891   \n",
            "top     9995-HOTOH    No  {'gender': 'Male', 'SeniorCitizen': 0, 'Partne...   \n",
            "freq             1  5174                                                223   \n",
            "\n",
            "                                                 phone  \\\n",
            "count                                             7267   \n",
            "unique                                               3   \n",
            "top     {'PhoneService': 'Yes', 'MultipleLines': 'No'}   \n",
            "freq                                              3495   \n",
            "\n",
            "                                                 internet  \\\n",
            "count                                                7267   \n",
            "unique                                                129   \n",
            "top     {'InternetService': 'No', 'OnlineSecurity': 'N...   \n",
            "freq                                                 1581   \n",
            "\n",
            "                                                  account  \n",
            "count                                                7267  \n",
            "unique                                               6931  \n",
            "top     {'Contract': 'Month-to-month', 'PaperlessBilli...  \n",
            "freq                                                    6  \n",
            "\n",
            "Valores nulos por columna:\n",
            "customerID    0\n",
            "Churn         0\n",
            "customer      0\n",
            "phone         0\n",
            "internet      0\n",
            "account       0\n",
            "dtype: int64\n",
            "\n",
            "Primeras 5 filas del DataFrame:\n",
            "   customerID Churn                                           customer  \\\n",
            "0  0002-ORFBO    No  {'gender': 'Female', 'SeniorCitizen': 0, 'Part...   \n",
            "1  0003-MKNFE    No  {'gender': 'Male', 'SeniorCitizen': 0, 'Partne...   \n",
            "2  0004-TLHLJ   Yes  {'gender': 'Male', 'SeniorCitizen': 0, 'Partne...   \n",
            "3  0011-IGKFF   Yes  {'gender': 'Male', 'SeniorCitizen': 1, 'Partne...   \n",
            "4  0013-EXCHZ   Yes  {'gender': 'Female', 'SeniorCitizen': 1, 'Part...   \n",
            "\n",
            "                                             phone  \\\n",
            "0   {'PhoneService': 'Yes', 'MultipleLines': 'No'}   \n",
            "1  {'PhoneService': 'Yes', 'MultipleLines': 'Yes'}   \n",
            "2   {'PhoneService': 'Yes', 'MultipleLines': 'No'}   \n",
            "3   {'PhoneService': 'Yes', 'MultipleLines': 'No'}   \n",
            "4   {'PhoneService': 'Yes', 'MultipleLines': 'No'}   \n",
            "\n",
            "                                            internet  \\\n",
            "0  {'InternetService': 'DSL', 'OnlineSecurity': '...   \n",
            "1  {'InternetService': 'DSL', 'OnlineSecurity': '...   \n",
            "2  {'InternetService': 'Fiber optic', 'OnlineSecu...   \n",
            "3  {'InternetService': 'Fiber optic', 'OnlineSecu...   \n",
            "4  {'InternetService': 'Fiber optic', 'OnlineSecu...   \n",
            "\n",
            "                                             account  \n",
            "0  {'Contract': 'One year', 'PaperlessBilling': '...  \n",
            "1  {'Contract': 'Month-to-month', 'PaperlessBilli...  \n",
            "2  {'Contract': 'Month-to-month', 'PaperlessBilli...  \n",
            "3  {'Contract': 'Month-to-month', 'PaperlessBilli...  \n",
            "4  {'Contract': 'Month-to-month', 'PaperlessBilli...  \n"
          ]
        }
      ]
    },
    {
      "cell_type": "markdown",
      "source": [
        "## Descripción de la tarea\n",
        "En esta sección, se cargaron los datos desde la URL y se convirtieron en un DataFrame de Pandas. Se inspeccionaron las columnas, sus tipos de datos y estadísticas descriptivas para variables numéricas y categóricas. También se verificaron valores nulos y se mostraron las primeras filas del dataset para entender su estructura. Los resultados permiten identificar las variables más relevantes para el análisis de evasión de clientes."
      ],
      "metadata": {
        "id": "ODJEaEHYFJbW"
      }
    }
  ]
}